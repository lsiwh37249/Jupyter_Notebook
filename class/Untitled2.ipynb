{
 "cells": [
  {
   "cell_type": "code",
   "execution_count": 4,
   "id": "f99cab9b-c626-46f8-9e11-e3127155c6a1",
   "metadata": {},
   "outputs": [],
   "source": [
    "import pandas as pd\n",
    "df = pd.read_parquet('~/data/parquet')"
   ]
  },
  {
   "cell_type": "code",
   "execution_count": 8,
   "id": "0652296e-6eb0-4928-b136-070520bdb388",
   "metadata": {},
   "outputs": [],
   "source": [
    "fdf = df[df['dt'] == '2024-07-10']"
   ]
  },
  {
   "cell_type": "code",
   "execution_count": 12,
   "id": "166aadf3-b875-43b4-bd0b-2a0aed9014b0",
   "metadata": {},
   "outputs": [],
   "source": [
    "sdf=fdf.sort_values(by='cnt', ascending=False).head(10)"
   ]
  },
  {
   "cell_type": "code",
   "execution_count": 17,
   "id": "f8f7068a-7879-4cab-b880-114b5b39ec56",
   "metadata": {},
   "outputs": [],
   "source": [
    "ddf = sdf.drop(columns=['dt'])"
   ]
  },
  {
   "cell_type": "code",
   "execution_count": 18,
   "id": "e7b47829-84d6-4a1e-aed8-67dbc8930a6e",
   "metadata": {},
   "outputs": [
    {
     "data": {
      "text/html": [
       "<div>\n",
       "<style scoped>\n",
       "    .dataframe tbody tr th:only-of-type {\n",
       "        vertical-align: middle;\n",
       "    }\n",
       "\n",
       "    .dataframe tbody tr th {\n",
       "        vertical-align: top;\n",
       "    }\n",
       "\n",
       "    .dataframe thead th {\n",
       "        text-align: right;\n",
       "    }\n",
       "</style>\n",
       "<table border=\"1\" class=\"dataframe\">\n",
       "  <thead>\n",
       "    <tr style=\"text-align: right;\">\n",
       "      <th></th>\n",
       "      <th>cmd</th>\n",
       "      <th>cnt</th>\n",
       "    </tr>\n",
       "  </thead>\n",
       "  <tbody>\n",
       "    <tr>\n",
       "      <th>31</th>\n",
       "      <td>git</td>\n",
       "      <td>226</td>\n",
       "    </tr>\n",
       "    <tr>\n",
       "      <th>65</th>\n",
       "      <td>rm</td>\n",
       "      <td>158</td>\n",
       "    </tr>\n",
       "    <tr>\n",
       "      <th>21</th>\n",
       "      <td>cd</td>\n",
       "      <td>150</td>\n",
       "    </tr>\n",
       "    <tr>\n",
       "      <th>84</th>\n",
       "      <td>vi</td>\n",
       "      <td>138</td>\n",
       "    </tr>\n",
       "    <tr>\n",
       "      <th>54</th>\n",
       "      <td>mkdir</td>\n",
       "      <td>70</td>\n",
       "    </tr>\n",
       "    <tr>\n",
       "      <th>62</th>\n",
       "      <td>pyenv</td>\n",
       "      <td>66</td>\n",
       "    </tr>\n",
       "    <tr>\n",
       "      <th>77</th>\n",
       "      <td>sudo</td>\n",
       "      <td>60</td>\n",
       "    </tr>\n",
       "    <tr>\n",
       "      <th>85</th>\n",
       "      <td>view</td>\n",
       "      <td>44</td>\n",
       "    </tr>\n",
       "    <tr>\n",
       "      <th>50</th>\n",
       "      <td>ls</td>\n",
       "      <td>42</td>\n",
       "    </tr>\n",
       "    <tr>\n",
       "      <th>66</th>\n",
       "      <td>scp</td>\n",
       "      <td>36</td>\n",
       "    </tr>\n",
       "  </tbody>\n",
       "</table>\n",
       "</div>"
      ],
      "text/plain": [
       "      cmd  cnt\n",
       "31    git  226\n",
       "65     rm  158\n",
       "21     cd  150\n",
       "84     vi  138\n",
       "54  mkdir   70\n",
       "62  pyenv   66\n",
       "77   sudo   60\n",
       "85   view   44\n",
       "50     ls   42\n",
       "66    scp   36"
      ]
     },
     "execution_count": 18,
     "metadata": {},
     "output_type": "execute_result"
    }
   ],
   "source": [
    "ddf"
   ]
  },
  {
   "cell_type": "code",
   "execution_count": 19,
   "id": "7f9abc89-b58c-4928-93dd-a44347bb8c9a",
   "metadata": {},
   "outputs": [
    {
     "name": "stdout",
     "output_type": "stream",
     "text": [
      "  cmd  cnt\n",
      "  git  226\n",
      "   rm  158\n",
      "   cd  150\n",
      "   vi  138\n",
      "mkdir   70\n",
      "pyenv   66\n",
      " sudo   60\n",
      " view   44\n",
      "   ls   42\n",
      "  scp   36\n"
     ]
    }
   ],
   "source": [
    "print(ddf.to_string(index=False))"
   ]
  }
 ],
 "metadata": {
  "kernelspec": {
   "display_name": "Python 3 (ipykernel)",
   "language": "python",
   "name": "python3"
  },
  "language_info": {
   "codemirror_mode": {
    "name": "ipython",
    "version": 3
   },
   "file_extension": ".py",
   "mimetype": "text/x-python",
   "name": "python",
   "nbconvert_exporter": "python",
   "pygments_lexer": "ipython3",
   "version": "3.11.9"
  }
 },
 "nbformat": 4,
 "nbformat_minor": 5
}
