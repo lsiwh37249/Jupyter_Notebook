{
 "cells": [
  {
   "cell_type": "code",
   "execution_count": 1,
   "id": "70bdd69e-eb87-4d46-bdd0-672ca5ce1d5c",
   "metadata": {},
   "outputs": [],
   "source": [
    "import pandas as pd"
   ]
  },
  {
   "cell_type": "code",
   "execution_count": 5,
   "id": "81686569-35fe-49f7-a038-58acd8a8da26",
   "metadata": {},
   "outputs": [],
   "source": [
    "df = pd.read_parquet('~/tmp/test_parquet')"
   ]
  },
  {
   "cell_type": "markdown",
   "id": "ff18be73-c742-4120-a8f5-7fba24e81972",
   "metadata": {},
   "source": [
    "# multiMovieYn, repNationCd"
   ]
  },
  {
   "cell_type": "code",
   "execution_count": 8,
   "id": "fbc08405-742f-4326-8324-b56c3734e682",
   "metadata": {},
   "outputs": [
    {
     "data": {
      "text/plain": [
       "multiMovieYn\n",
       "unknown    120\n",
       "N           60\n",
       "Y           60\n",
       "Name: count, dtype: int64"
      ]
     },
     "execution_count": 8,
     "metadata": {},
     "output_type": "execute_result"
    }
   ],
   "source": [
    "df['multiMovieYn'] = df['multiMovieYn'].astype('object')\n",
    "df['multiMovieYn'] = df['multiMovieYn'].fillna('unknown')\n",
    "df['multiMovieYn'].value_counts()"
   ]
  },
  {
   "cell_type": "code",
   "execution_count": 18,
   "id": "14d4eb1e-9de8-4ec3-9515-ae2e087e8a6b",
   "metadata": {},
   "outputs": [],
   "source": [
    "def merge(load_dt=\"20240724\"):\n",
    "    read_df = pd.read_parquet('~/tmp/test_parquet')\n",
    "    cols = ['movieCd', #영화의 대표코드를 출력합니다.\n",
    "       'movieNm', #영화명(국문)을 출력합니다.\n",
    "       #'openDt', #영화의 개봉일을 출력합니다.\n",
    "       #'audiCnt', #해당일의 관객수를 출력합니다.\n",
    "       'load_dt', # 입수일자\n",
    "       'multiMovieYn', #다양성영화 유무\n",
    "       'repNationCd', #한국외국영화 유무\n",
    "       ]\n",
    "    df = read_df[cols]\n",
    "    # 울버린 만조회\n",
    "    df_where = df[df['movieCd'] == '20247781'].copy() #날짜조건 load_dt 인자 받기\n",
    "    df_where = df[(df['movieCd'] == '20247781') & (df['load_dt'] == int(load_dt))].copy()\n",
    "    print(df_where)\n",
    "    print(df_where.dtypes)\n",
    "\n",
    "    # 카테고리 타입 -> Object\n",
    "    df_where['load_dt'] = df_where['load_dt'].astype('object')\n",
    "    df_where['multiMovieYn'] = df_where['multiMovieYn'].astype('object')\n",
    "    df_where['repNationCd'] = df_where['repNationCd'].astype('object')\n",
    "    print(df_where.dtypes)\n",
    "    return df_where"
   ]
  },
  {
   "cell_type": "code",
   "execution_count": 16,
   "id": "bf82c3d5-ef58-4eaf-9a4c-68b962aaedd9",
   "metadata": {},
   "outputs": [
    {
     "name": "stdout",
     "output_type": "stream",
     "text": [
      "      movieCd   movieNm   load_dt multiMovieYn repNationCd\n",
      "80   20247781  데드풀과 울버린  20240728            N         NaN\n",
      "100  20247781  데드풀과 울버린  20240728          NaN           F\n",
      "movieCd           object\n",
      "movieNm           object\n",
      "load_dt         category\n",
      "multiMovieYn    category\n",
      "repNationCd     category\n",
      "dtype: object\n",
      "movieCd         object\n",
      "movieNm         object\n",
      "load_dt         object\n",
      "multiMovieYn    object\n",
      "repNationCd     object\n",
      "dtype: object\n"
     ]
    },
    {
     "data": {
      "text/html": [
       "<div>\n",
       "<style scoped>\n",
       "    .dataframe tbody tr th:only-of-type {\n",
       "        vertical-align: middle;\n",
       "    }\n",
       "\n",
       "    .dataframe tbody tr th {\n",
       "        vertical-align: top;\n",
       "    }\n",
       "\n",
       "    .dataframe thead th {\n",
       "        text-align: right;\n",
       "    }\n",
       "</style>\n",
       "<table border=\"1\" class=\"dataframe\">\n",
       "  <thead>\n",
       "    <tr style=\"text-align: right;\">\n",
       "      <th></th>\n",
       "      <th>movieCd</th>\n",
       "      <th>movieNm</th>\n",
       "      <th>load_dt</th>\n",
       "      <th>multiMovieYn</th>\n",
       "      <th>repNationCd</th>\n",
       "    </tr>\n",
       "  </thead>\n",
       "  <tbody>\n",
       "    <tr>\n",
       "      <th>80</th>\n",
       "      <td>20247781</td>\n",
       "      <td>데드풀과 울버린</td>\n",
       "      <td>20240728</td>\n",
       "      <td>N</td>\n",
       "      <td>NaN</td>\n",
       "    </tr>\n",
       "    <tr>\n",
       "      <th>100</th>\n",
       "      <td>20247781</td>\n",
       "      <td>데드풀과 울버린</td>\n",
       "      <td>20240728</td>\n",
       "      <td>NaN</td>\n",
       "      <td>F</td>\n",
       "    </tr>\n",
       "  </tbody>\n",
       "</table>\n",
       "</div>"
      ],
      "text/plain": [
       "      movieCd   movieNm   load_dt multiMovieYn repNationCd\n",
       "80   20247781  데드풀과 울버린  20240728            N         NaN\n",
       "100  20247781  데드풀과 울버린  20240728          NaN           F"
      ]
     },
     "execution_count": 16,
     "metadata": {},
     "output_type": "execute_result"
    }
   ],
   "source": [
    "merge(\"20240728\")"
   ]
  },
  {
   "cell_type": "code",
   "execution_count": 73,
   "id": "7142f29d-2748-49e8-9642-8e33136db9f8",
   "metadata": {},
   "outputs": [],
   "source": [
    "def merge(load_dt=\"20240724\"):\n",
    "    read_df = pd.read_parquet('~/tmp/test_parquet')\n",
    "    cols = ['movieCd', #영화의 대표코드를 출력합니다.\n",
    "       'movieNm', #영화명(국문)을 출력합니다.\n",
    "       #'openDt', #영화의 개봉일을 출력합니다.\n",
    "       #'audiCnt', #해당일의 관객수를 출력합니다.\n",
    "       'load_dt', # 입수일자\n",
    "       'multiMovieYn', #다양성영화 유무\n",
    "       'repNationCd', #한국외국영화 유무\n",
    "       ]\n",
    "    df = read_df[cols]\n",
    "    # 울버린 만조회 지우고 ...\n",
    "    #dw = df[(df['movieCd'] == '20235974') & (df['load_dt'] == int(load_dt))].copy() #날짜조건 load_dt 인자 받기 print(dw)\n",
    "    dw = df[df['load_dt'] == int(load_dt)].copy()\n",
    "    print(dw.dtypes)\n",
    "\n",
    "    # 카테고리 타입 -> Object\n",
    "    dw['load_dt'] = dw['load_dt'].astype('object')\n",
    "    dw['multiMovieYn'] = dw['multiMovieYn'].astype('object')\n",
    "    dw['repNationCd'] = dw['repNationCd'].astype('object')\n",
    "\n",
    "    # NaN 값 unknown 으로 변경\n",
    "    dw['multiMovieYn'] = dw['multiMovieYn'].fillna('unknown')\n",
    "    dw['repNationCd'] = dw['repNationCd'].fillna('unknown')\n",
    "    print(dw.dtypes)\n",
    "    print(dw)\n",
    "\n",
    "    # 머지\n",
    "    u_mul = dw[dw['multiMovieYn'] == 'unknown']\n",
    "    u_nat = dw[dw['repNationCd'] == 'unknown']\n",
    "    m_df = pd.merge(u_mul, u_nat, on='movieCd', suffixes=('_m', '_n'))\n",
    "\n",
    "    print(\"머지 DF\")\n",
    "    print(m_df)\n",
    "    return m_df"
   ]
  },
  {
   "cell_type": "code",
   "execution_count": 74,
   "id": "69eb1e56-6fbc-44c8-bc0d-ea25c2462088",
   "metadata": {},
   "outputs": [
    {
     "name": "stdout",
     "output_type": "stream",
     "text": [
      "movieCd           object\n",
      "movieNm           object\n",
      "load_dt         category\n",
      "multiMovieYn    category\n",
      "repNationCd     category\n",
      "dtype: object\n",
      "movieCd         object\n",
      "movieNm         object\n",
      "load_dt         object\n",
      "multiMovieYn    object\n",
      "repNationCd     object\n",
      "dtype: object\n",
      "      movieCd                 movieNm   load_dt multiMovieYn repNationCd\n",
      "80   20247781                데드풀과 울버린  20240728            N     unknown\n",
      "81   20247440                  슈퍼배드 4  20240728            N     unknown\n",
      "82   20212932                      탈주  20240728            N     unknown\n",
      "83   20235974               인사이드 아웃 2  20240728            N     unknown\n",
      "84   20240983   명탐정 코난: 100만 달러의 펜타그램  20240728            N     unknown\n",
      "85   20208245                   핸섬가이즈  20240728            N     unknown\n",
      "86   20208911           탈출: 프로젝트 사일런스  20240728            N     unknown\n",
      "87   20224666                     파일럿  20240728            N     unknown\n",
      "88   20249733                 사랑의 하츄핑  20240728            N     unknown\n",
      "89   20240850    극장판 도라에몽: 진구의 지구 교향곡  20240728            N     unknown\n",
      "90   20235926                 퍼펙트 데이즈  20240728            Y     unknown\n",
      "91   19960126                 비포 선라이즈  20240728            Y     unknown\n",
      "92   20148830           마담 프루스트의 비밀정원  20240728            Y     unknown\n",
      "93   20247397              존 오브 인터레스트  20240728            Y     unknown\n",
      "94   20234413                  프렌치 수프  20240728            Y     unknown\n",
      "95   20240735              러브 라이즈 블리딩  20240728            Y     unknown\n",
      "96   20191801                 행복한 라짜로  20240728            Y     unknown\n",
      "97   19978805                      큐어  20240728            Y     unknown\n",
      "98   20236233                  엄마의 왕국  20240728            Y     unknown\n",
      "99   20158948                   더 원더스  20240728            Y     unknown\n",
      "100  20247781                데드풀과 울버린  20240728      unknown           F\n",
      "101  20247440                  슈퍼배드 4  20240728      unknown           F\n",
      "102  20235974               인사이드 아웃 2  20240728      unknown           F\n",
      "103  20240983   명탐정 코난: 100만 달러의 펜타그램  20240728      unknown           F\n",
      "104  20235926                 퍼펙트 데이즈  20240728      unknown           F\n",
      "105  20240850    극장판 도라에몽: 진구의 지구 교향곡  20240728      unknown           F\n",
      "106  20241924        극장총집편 봇치 더 록! 전편  20240728      unknown           F\n",
      "107  20241343  우마무스메 프리티 더비 새로운 시대의 문  20240728      unknown           F\n",
      "108  19960126                 비포 선라이즈  20240728      unknown           F\n",
      "109  20148830           마담 프루스트의 비밀정원  20240728      unknown           F\n",
      "110  20212932                      탈주  20240728      unknown           K\n",
      "111  20208245                   핸섬가이즈  20240728      unknown           K\n",
      "112  20208911           탈출: 프로젝트 사일런스  20240728      unknown           K\n",
      "113  20224666                     파일럿  20240728      unknown           K\n",
      "114  20249733                 사랑의 하츄핑  20240728      unknown           K\n",
      "115  20248465                    하이재킹  20240728      unknown           K\n",
      "116  20241984    2023 영탁 단독 콘서트 : 탁쇼2  20240728      unknown           K\n",
      "117  20242349      이준호 콘서트 : 다시 만나는 날  20240728      unknown           K\n",
      "118  20236233                  엄마의 왕국  20240728      unknown           K\n",
      "119  20240984        박정희: 경제대국을 꿈꾼 남자  20240728      unknown           K\n",
      "머지 DF\n",
      "     movieCd              movieNm_m load_dt_m multiMovieYn_m repNationCd_m  \\\n",
      "0   20247781               데드풀과 울버린  20240728        unknown             F   \n",
      "1   20247440                 슈퍼배드 4  20240728        unknown             F   \n",
      "2   20235974              인사이드 아웃 2  20240728        unknown             F   \n",
      "3   20240983  명탐정 코난: 100만 달러의 펜타그램  20240728        unknown             F   \n",
      "4   20235926                퍼펙트 데이즈  20240728        unknown             F   \n",
      "5   20240850   극장판 도라에몽: 진구의 지구 교향곡  20240728        unknown             F   \n",
      "6   19960126                비포 선라이즈  20240728        unknown             F   \n",
      "7   20148830          마담 프루스트의 비밀정원  20240728        unknown             F   \n",
      "8   20212932                     탈주  20240728        unknown             K   \n",
      "9   20208245                  핸섬가이즈  20240728        unknown             K   \n",
      "10  20208911          탈출: 프로젝트 사일런스  20240728        unknown             K   \n",
      "11  20224666                    파일럿  20240728        unknown             K   \n",
      "12  20249733                사랑의 하츄핑  20240728        unknown             K   \n",
      "13  20236233                 엄마의 왕국  20240728        unknown             K   \n",
      "\n",
      "                movieNm_n load_dt_n multiMovieYn_n repNationCd_n  \n",
      "0                데드풀과 울버린  20240728              N       unknown  \n",
      "1                  슈퍼배드 4  20240728              N       unknown  \n",
      "2               인사이드 아웃 2  20240728              N       unknown  \n",
      "3   명탐정 코난: 100만 달러의 펜타그램  20240728              N       unknown  \n",
      "4                 퍼펙트 데이즈  20240728              Y       unknown  \n",
      "5    극장판 도라에몽: 진구의 지구 교향곡  20240728              N       unknown  \n",
      "6                 비포 선라이즈  20240728              Y       unknown  \n",
      "7           마담 프루스트의 비밀정원  20240728              Y       unknown  \n",
      "8                      탈주  20240728              N       unknown  \n",
      "9                   핸섬가이즈  20240728              N       unknown  \n",
      "10          탈출: 프로젝트 사일런스  20240728              N       unknown  \n",
      "11                    파일럿  20240728              N       unknown  \n",
      "12                사랑의 하츄핑  20240728              N       unknown  \n",
      "13                 엄마의 왕국  20240728              Y       unknown  \n"
     ]
    }
   ],
   "source": [
    "m_df = merge(\"20240728\")"
   ]
  },
  {
   "cell_type": "code",
   "execution_count": 56,
   "id": "70b4f3d3-f78a-4b12-b18f-afa880c15828",
   "metadata": {},
   "outputs": [
    {
     "name": "stdout",
     "output_type": "stream",
     "text": [
      "     movieCd              movieNm_m load_dt_m multiMovieYn_m repNationCd_m  \\\n",
      "0   20247781               데드풀과 울버린  20240728        unknown             F   \n",
      "1   20247440                 슈퍼배드 4  20240728        unknown             F   \n",
      "2   20235974              인사이드 아웃 2  20240728        unknown             F   \n",
      "3   20240983  명탐정 코난: 100만 달러의 펜타그램  20240728        unknown             F   \n",
      "4   20235926                퍼펙트 데이즈  20240728        unknown             F   \n",
      "5   20240850   극장판 도라에몽: 진구의 지구 교향곡  20240728        unknown             F   \n",
      "6   19960126                비포 선라이즈  20240728        unknown             F   \n",
      "7   20148830          마담 프루스트의 비밀정원  20240728        unknown             F   \n",
      "8   20212932                     탈주  20240728        unknown             K   \n",
      "9   20208245                  핸섬가이즈  20240728        unknown             K   \n",
      "10  20208911          탈출: 프로젝트 사일런스  20240728        unknown             K   \n",
      "11  20224666                    파일럿  20240728        unknown             K   \n",
      "12  20249733                사랑의 하츄핑  20240728        unknown             K   \n",
      "13  20236233                 엄마의 왕국  20240728        unknown             K   \n",
      "\n",
      "                movieNm_n load_dt_n multiMovieYn_n repNationCd_n  \n",
      "0                데드풀과 울버린  20240728              N       unknown  \n",
      "1                  슈퍼배드 4  20240728              N       unknown  \n",
      "2               인사이드 아웃 2  20240728              N       unknown  \n",
      "3   명탐정 코난: 100만 달러의 펜타그램  20240728              N       unknown  \n",
      "4                 퍼펙트 데이즈  20240728              Y       unknown  \n",
      "5    극장판 도라에몽: 진구의 지구 교향곡  20240728              N       unknown  \n",
      "6                 비포 선라이즈  20240728              Y       unknown  \n",
      "7           마담 프루스트의 비밀정원  20240728              Y       unknown  \n",
      "8                      탈주  20240728              N       unknown  \n",
      "9                   핸섬가이즈  20240728              N       unknown  \n",
      "10          탈출: 프로젝트 사일런스  20240728              N       unknown  \n",
      "11                    파일럿  20240728              N       unknown  \n",
      "12                사랑의 하츄핑  20240728              N       unknown  \n",
      "13                 엄마의 왕국  20240728              Y       unknown  \n"
     ]
    }
   ],
   "source": [
    "print(m_df)"
   ]
  },
  {
   "cell_type": "code",
   "execution_count": 57,
   "id": "d45edd66-7d86-4416-9c84-ff4a1bb15355",
   "metadata": {},
   "outputs": [
    {
     "name": "stdout",
     "output_type": "stream",
     "text": [
      "0                  데드풀과 울버린\n",
      "1                    슈퍼배드 4\n",
      "2                 인사이드 아웃 2\n",
      "3     명탐정 코난: 100만 달러의 펜타그램\n",
      "4                   퍼펙트 데이즈\n",
      "5      극장판 도라에몽: 진구의 지구 교향곡\n",
      "6                   비포 선라이즈\n",
      "7             마담 프루스트의 비밀정원\n",
      "8                        탈주\n",
      "9                     핸섬가이즈\n",
      "10            탈출: 프로젝트 사일런스\n",
      "11                      파일럿\n",
      "12                  사랑의 하츄핑\n",
      "13                   엄마의 왕국\n",
      "Name: movieNm_m, dtype: object\n"
     ]
    }
   ],
   "source": [
    "print(m_df.iloc[:, 1])"
   ]
  },
  {
   "cell_type": "code",
   "execution_count": 65,
   "id": "084c1176-241e-4c30-a134-b1f75137cfba",
   "metadata": {},
   "outputs": [
    {
     "name": "stdout",
     "output_type": "stream",
     "text": [
      "0     N\n",
      "1     N\n",
      "2     N\n",
      "3     N\n",
      "4     Y\n",
      "5     N\n",
      "6     Y\n",
      "7     Y\n",
      "8     N\n",
      "9     N\n",
      "10    N\n",
      "11    N\n",
      "12    N\n",
      "13    Y\n",
      "Name: multiMovieYn_n, dtype: object\n",
      "0     unknown\n",
      "1     unknown\n",
      "2     unknown\n",
      "3     unknown\n",
      "4     unknown\n",
      "5     unknown\n",
      "6     unknown\n",
      "7     unknown\n",
      "8     unknown\n",
      "9     unknown\n",
      "10    unknown\n",
      "11    unknown\n",
      "12    unknown\n",
      "13    unknown\n",
      "Name: multiMovieYn_m, dtype: object\n",
      "     movieCd              movieNm_m load_dt_m multiMovieYn_m repNationCd_m  \\\n",
      "0   20247781               데드풀과 울버린  20240728              N             F   \n",
      "1   20247440                 슈퍼배드 4  20240728              N             F   \n",
      "2   20235974              인사이드 아웃 2  20240728              N             F   \n",
      "3   20240983  명탐정 코난: 100만 달러의 펜타그램  20240728              N             F   \n",
      "4   20235926                퍼펙트 데이즈  20240728        unknown             F   \n",
      "5   20240850   극장판 도라에몽: 진구의 지구 교향곡  20240728              N             F   \n",
      "6   19960126                비포 선라이즈  20240728        unknown             F   \n",
      "7   20148830          마담 프루스트의 비밀정원  20240728        unknown             F   \n",
      "8   20212932                     탈주  20240728              N             K   \n",
      "9   20208245                  핸섬가이즈  20240728              N             K   \n",
      "10  20208911          탈출: 프로젝트 사일런스  20240728              N             K   \n",
      "11  20224666                    파일럿  20240728              N             K   \n",
      "12  20249733                사랑의 하츄핑  20240728              N             K   \n",
      "13  20236233                 엄마의 왕국  20240728        unknown             K   \n",
      "\n",
      "                movieNm_n load_dt_n multiMovieYn_n repNationCd_n unknown  \n",
      "0                데드풀과 울버린  20240728              N       unknown       N  \n",
      "1                  슈퍼배드 4  20240728              N       unknown       N  \n",
      "2               인사이드 아웃 2  20240728              N       unknown       N  \n",
      "3   명탐정 코난: 100만 달러의 펜타그램  20240728              N       unknown       N  \n",
      "4                 퍼펙트 데이즈  20240728              Y       unknown       N  \n",
      "5    극장판 도라에몽: 진구의 지구 교향곡  20240728              N       unknown       N  \n",
      "6                 비포 선라이즈  20240728              Y       unknown       N  \n",
      "7           마담 프루스트의 비밀정원  20240728              Y       unknown       N  \n",
      "8                      탈주  20240728              N       unknown       N  \n",
      "9                   핸섬가이즈  20240728              N       unknown       N  \n",
      "10          탈출: 프로젝트 사일런스  20240728              N       unknown       N  \n",
      "11                    파일럿  20240728              N       unknown       N  \n",
      "12                사랑의 하츄핑  20240728              N       unknown       N  \n",
      "13                 엄마의 왕국  20240728              Y       unknown       N  \n"
     ]
    }
   ],
   "source": [
    "print(m_df.iloc[:,7])\n",
    "print(m_df.iloc[:,3])\n",
    "# m_df의 multiMovieYn_n 속성이 N과 같은 열을 추출해서 m_df에 넣기\n",
    "\n",
    "#m_df[m_df[m_df.multiMovieYn_n == \"N\"].multiMovieYn_m] = \"N\"\n",
    "m_df.loc[m_df['multiMovieYn_n'] == 'N', 'multiMovieYn_m'] = 'N'\n",
    "print(m_df)\n",
    "# 열을 추출하는 방    "
   ]
  },
  {
   "cell_type": "code",
   "execution_count": 75,
   "id": "916bc52c-b32d-491c-8704-e46ecc5c46df",
   "metadata": {},
   "outputs": [
    {
     "name": "stdout",
     "output_type": "stream",
     "text": [
      "     movieCd              movieNm_m  load_dt_m multiMovieYn_m repNationCd_m  \\\n",
      "0   20247781               데드풀과 울버린   20240728              N             F   \n",
      "1   20247440                 슈퍼배드 4   20240728              N             F   \n",
      "2   20235974              인사이드 아웃 2   20240728              N             F   \n",
      "3   20240983  명탐정 코난: 100만 달러의 펜타그램   20240728              N             F   \n",
      "4   20235926                퍼펙트 데이즈   20240728        unknown             F   \n",
      "5   20240850   극장판 도라에몽: 진구의 지구 교향곡   20240728              N             F   \n",
      "6   19960126                비포 선라이즈   20240728        unknown             F   \n",
      "7   20148830          마담 프루스트의 비밀정원   20240728        unknown             F   \n",
      "8   20212932                     탈주   20240728              N             K   \n",
      "9   20208245                  핸섬가이즈   20240728              N             K   \n",
      "10  20208911          탈출: 프로젝트 사일런스   20240728              N             K   \n",
      "11  20224666                    파일럿   20240728              N             K   \n",
      "12  20249733                사랑의 하츄핑   20240728              N             K   \n",
      "13  20236233                 엄마의 왕국   20240728        unknown             K   \n",
      "\n",
      "                movieNm_n  load_dt_n multiMovieYn_n repNationCd_n  \n",
      "0                데드풀과 울버린   20240728              N       unknown  \n",
      "1                  슈퍼배드 4   20240728              N       unknown  \n",
      "2               인사이드 아웃 2   20240728              N       unknown  \n",
      "3   명탐정 코난: 100만 달러의 펜타그램   20240728              N       unknown  \n",
      "4                 퍼펙트 데이즈   20240728              Y       unknown  \n",
      "5    극장판 도라에몽: 진구의 지구 교향곡   20240728              N       unknown  \n",
      "6                 비포 선라이즈   20240728              Y       unknown  \n",
      "7           마담 프루스트의 비밀정원   20240728              Y       unknown  \n",
      "8                      탈주   20240728              N       unknown  \n",
      "9                   핸섬가이즈   20240728              N       unknown  \n",
      "10          탈출: 프로젝트 사일런스   20240728              N       unknown  \n",
      "11                    파일럿   20240728              N       unknown  \n",
      "12                사랑의 하츄핑   20240728              N       unknown  \n",
      "13                 엄마의 왕국   20240728              Y       unknown  \n"
     ]
    }
   ],
   "source": [
    "\n",
    "#if M,N in m_df['multiMovieYn_n'], m_df['multiMovieYn_m']\n",
    "#    m_df['multiMovieYn_M'] = N\n",
    "#    print(m_df['multiMoviceYn'])\n",
    "\n",
    "def fillN(row):\n",
    "    if row['multiMovieYn_n'] == 'N':\n",
    "        row['multiMovieYn_m'] = 'N'\n",
    "    return row\n",
    "\n",
    "m_df = m_df.apply(fillN, axis=1)\n",
    "print(m_df)\n",
    "\n",
    "\n"
   ]
  },
  {
   "cell_type": "code",
   "execution_count": 40,
   "id": "7eae5d44-8228-4744-afc2-e9365e7f6241",
   "metadata": {},
   "outputs": [
    {
     "name": "stdout",
     "output_type": "stream",
     "text": [
      "    movieCd  movieNm_m  load_dt_m multiMovieYn_m repNationCd_m  movieNm_n  \\\n",
      "0  20235974  인사이드 아웃 2   20240728              N             F  인사이드 아웃 2   \n",
      "\n",
      "   load_dt_n multiMovieYn_n repNationCd_n multiMovieYn_M  \n",
      "0   20240728              N       unknown              N  \n"
     ]
    }
   ],
   "source": [
    "print(m_df)"
   ]
  },
  {
   "cell_type": "code",
   "execution_count": null,
   "id": "2fb5af1e-a475-4c47-9c74-813fec091ddd",
   "metadata": {},
   "outputs": [],
   "source": []
  }
 ],
 "metadata": {
  "kernelspec": {
   "display_name": "Python 3 (ipykernel)",
   "language": "python",
   "name": "python3"
  },
  "language_info": {
   "codemirror_mode": {
    "name": "ipython",
    "version": 3
   },
   "file_extension": ".py",
   "mimetype": "text/x-python",
   "name": "python",
   "nbconvert_exporter": "python",
   "pygments_lexer": "ipython3",
   "version": "3.11.9"
  }
 },
 "nbformat": 4,
 "nbformat_minor": 5
}
