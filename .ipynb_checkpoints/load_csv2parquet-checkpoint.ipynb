{
 "cells": [
  {
   "cell_type": "markdown",
   "id": "d753430b-2f0e-422c-a9d8-d77b0e101bb9",
   "metadata": {},
   "source": [
    "### CSV 2 PARQUET"
   ]
  },
  {
   "cell_type": "code",
   "execution_count": 44,
   "id": "7419efd1-3ccc-444b-8929-acb80e6bf8a1",
   "metadata": {},
   "outputs": [],
   "source": [
    "import pandas as pd\n",
    "import copy"
   ]
  },
  {
   "cell_type": "code",
   "execution_count": null,
   "id": "224f9610-8ff6-410d-b5ab-d26769c9c162",
   "metadata": {},
   "outputs": [],
   "source": []
  },
  {
   "cell_type": "code",
   "execution_count": null,
   "id": "40e4a7ef-1c77-4a73-8bf1-526a83c241d6",
   "metadata": {},
   "outputs": [],
   "source": []
  },
  {
   "cell_type": "code",
   "execution_count": 20,
   "id": "135413a7-7b7d-4605-9769-cbf49d326516",
   "metadata": {},
   "outputs": [],
   "source": [
    "df = pd.read_csv('~/data/csv/20240717/csv.csv',\n",
    "                 on_bad_lines='skip',\n",
    "                 encoding='latin',\n",
    "                 names=['dt', 'cmd', 'count'])"
   ]
  },
  {
   "cell_type": "code",
   "execution_count": 18,
   "id": "791d86c1-fd31-45a3-b1be-eeb548af8c77",
   "metadata": {},
   "outputs": [
    {
     "data": {
      "text/html": [
       "<div>\n",
       "<style scoped>\n",
       "    .dataframe tbody tr th:only-of-type {\n",
       "        vertical-align: middle;\n",
       "    }\n",
       "\n",
       "    .dataframe tbody tr th {\n",
       "        vertical-align: top;\n",
       "    }\n",
       "\n",
       "    .dataframe thead th {\n",
       "        text-align: right;\n",
       "    }\n",
       "</style>\n",
       "<table border=\"1\" class=\"dataframe\">\n",
       "  <thead>\n",
       "    <tr style=\"text-align: right;\">\n",
       "      <th></th>\n",
       "      <th>^2024-07-17^</th>\n",
       "      <th>^^</th>\n",
       "      <th>^288^</th>\n",
       "    </tr>\n",
       "  </thead>\n",
       "  <tbody>\n",
       "    <tr>\n",
       "      <th>0</th>\n",
       "      <td>^2024-07-17^</td>\n",
       "      <td>^\"^</td>\n",
       "      <td>^24^</td>\n",
       "    </tr>\n",
       "    <tr>\n",
       "      <th>1</th>\n",
       "      <td>^2024-07-17^</td>\n",
       "      <td>^./^</td>\n",
       "      <td>^24^</td>\n",
       "    </tr>\n",
       "    <tr>\n",
       "      <th>2</th>\n",
       "      <td>^2024-07-17^</td>\n",
       "      <td>^./goaws.sh^</td>\n",
       "      <td>^24^</td>\n",
       "    </tr>\n",
       "    <tr>\n",
       "      <th>3</th>\n",
       "      <td>^2024-07-17^</td>\n",
       "      <td>^./rootdir.sh^</td>\n",
       "      <td>^24^</td>\n",
       "    </tr>\n",
       "    <tr>\n",
       "      <th>4</th>\n",
       "      <td>^2024-07-17^</td>\n",
       "      <td>^./ssh.sh^</td>\n",
       "      <td>^24^</td>\n",
       "    </tr>\n",
       "    <tr>\n",
       "      <th>...</th>\n",
       "      <td>...</td>\n",
       "      <td>...</td>\n",
       "      <td>...</td>\n",
       "    </tr>\n",
       "    <tr>\n",
       "      <th>139</th>\n",
       "      <td>^2024-07-17^</td>\n",
       "      <td>^ë¤µ!^</td>\n",
       "      <td>^24^</td>\n",
       "    </tr>\n",
       "    <tr>\n",
       "      <th>140</th>\n",
       "      <td>^2024-07-17^</td>\n",
       "      <td>^ì«¼ê°ì½¤^</td>\n",
       "      <td>^24^</td>\n",
       "    </tr>\n",
       "    <tr>\n",
       "      <th>141</th>\n",
       "      <td>^2024-07-17^</td>\n",
       "      <td>^ì«¼ê°¤^</td>\n",
       "      <td>^24^</td>\n",
       "    </tr>\n",
       "    <tr>\n",
       "      <th>142</th>\n",
       "      <td>^2024-07-17^</td>\n",
       "      <td>^ìµ¤ìµ¹^</td>\n",
       "      <td>^24^</td>\n",
       "    </tr>\n",
       "    <tr>\n",
       "      <th>143</th>\n",
       "      <td>^2024-07-17^</td>\n",
       "      <td>^ì¶´ì·©^</td>\n",
       "      <td>^24^</td>\n",
       "    </tr>\n",
       "  </tbody>\n",
       "</table>\n",
       "<p>144 rows × 3 columns</p>\n",
       "</div>"
      ],
      "text/plain": [
       "     ^2024-07-17^               ^^ ^288^\n",
       "0    ^2024-07-17^              ^\"^  ^24^\n",
       "1    ^2024-07-17^             ^./^  ^24^\n",
       "2    ^2024-07-17^     ^./goaws.sh^  ^24^\n",
       "3    ^2024-07-17^   ^./rootdir.sh^  ^24^\n",
       "4    ^2024-07-17^       ^./ssh.sh^  ^24^\n",
       "..            ...              ...   ...\n",
       "139  ^2024-07-17^          ^ë¤µ!^  ^24^\n",
       "140  ^2024-07-17^  ^ì«¼ê°ì½¤^  ^24^\n",
       "141  ^2024-07-17^      ^ì«¼ê°¤^  ^24^\n",
       "142  ^2024-07-17^     ^ìµ¤ìµ¹^  ^24^\n",
       "143  ^2024-07-17^      ^ì¶´ì·©^  ^24^\n",
       "\n",
       "[144 rows x 3 columns]"
      ]
     },
     "execution_count": 18,
     "metadata": {},
     "output_type": "execute_result"
    }
   ],
   "source": [
    "df"
   ]
  },
  {
   "cell_type": "markdown",
   "id": "ebea883f-8750-4a7e-8173-04bb86359b26",
   "metadata": {},
   "source": [
    "df.tail(3)"
   ]
  },
  {
   "cell_type": "code",
   "execution_count": 22,
   "id": "7ad7fa15-3683-4e79-aa95-224106124d35",
   "metadata": {},
   "outputs": [
    {
     "data": {
      "text/html": [
       "<div>\n",
       "<style scoped>\n",
       "    .dataframe tbody tr th:only-of-type {\n",
       "        vertical-align: middle;\n",
       "    }\n",
       "\n",
       "    .dataframe tbody tr th {\n",
       "        vertical-align: top;\n",
       "    }\n",
       "\n",
       "    .dataframe thead th {\n",
       "        text-align: right;\n",
       "    }\n",
       "</style>\n",
       "<table border=\"1\" class=\"dataframe\">\n",
       "  <thead>\n",
       "    <tr style=\"text-align: right;\">\n",
       "      <th></th>\n",
       "      <th>dt</th>\n",
       "      <th>cmd</th>\n",
       "      <th>count</th>\n",
       "    </tr>\n",
       "  </thead>\n",
       "  <tbody>\n",
       "    <tr>\n",
       "      <th>0</th>\n",
       "      <td>^2024-07-17^</td>\n",
       "      <td>^^</td>\n",
       "      <td>^288^</td>\n",
       "    </tr>\n",
       "    <tr>\n",
       "      <th>1</th>\n",
       "      <td>^2024-07-17^</td>\n",
       "      <td>^\"^</td>\n",
       "      <td>^24^</td>\n",
       "    </tr>\n",
       "    <tr>\n",
       "      <th>2</th>\n",
       "      <td>^2024-07-17^</td>\n",
       "      <td>^./^</td>\n",
       "      <td>^24^</td>\n",
       "    </tr>\n",
       "  </tbody>\n",
       "</table>\n",
       "</div>"
      ],
      "text/plain": [
       "             dt   cmd  count\n",
       "0  ^2024-07-17^    ^^  ^288^\n",
       "1  ^2024-07-17^   ^\"^   ^24^\n",
       "2  ^2024-07-17^  ^./^   ^24^"
      ]
     },
     "execution_count": 22,
     "metadata": {},
     "output_type": "execute_result"
    }
   ],
   "source": [
    "df.head(3)"
   ]
  },
  {
   "cell_type": "code",
   "execution_count": 30,
   "id": "88fb1a9c-6db8-49f6-b628-c22417a13bd2",
   "metadata": {},
   "outputs": [],
   "source": [
    "df['dt'] = df['dt'].str.replace('^', '')\n",
    "df['cmd'] = df['cmd'].str.replace('^', '')\n",
    "df['count'] = df['count'].str.replace('^', '')\n"
   ]
  },
  {
   "cell_type": "code",
   "execution_count": null,
   "id": "75d87368-9d8b-4de6-bd79-3eecea676437",
   "metadata": {},
   "outputs": [],
   "source": [
    "# 괄호 안에 있는 문자가 포함하는지 여부를 확인하는 코드 "
   ]
  },
  {
   "cell_type": "code",
   "execution_count": 52,
   "id": "c2a87f30-611a-4ad4-add0-485f26b4d459",
   "metadata": {},
   "outputs": [],
   "source": [
    "fdf = df[df['cmd'].str.contains('aws')]"
   ]
  },
  {
   "cell_type": "code",
   "execution_count": 53,
   "id": "1c68ee8e-7c98-4473-bc88-b67fa794659a",
   "metadata": {},
   "outputs": [],
   "source": [
    "fdf.loc[:, 'count'] = fdf['count'].astype(int)"
   ]
  },
  {
   "cell_type": "code",
   "execution_count": 54,
   "id": "0ae996be-887a-406f-a69a-6235e8d66358",
   "metadata": {},
   "outputs": [
    {
     "data": {
      "text/plain": [
       "72"
      ]
     },
     "execution_count": 54,
     "metadata": {},
     "output_type": "execute_result"
    }
   ],
   "source": [
    "fdf['count'].sum()"
   ]
  },
  {
   "cell_type": "code",
   "execution_count": 55,
   "id": "b0c7eb93-9239-49f9-b3e4-cf0f8badb098",
   "metadata": {},
   "outputs": [
    {
     "data": {
      "text/html": [
       "<div>\n",
       "<style scoped>\n",
       "    .dataframe tbody tr th:only-of-type {\n",
       "        vertical-align: middle;\n",
       "    }\n",
       "\n",
       "    .dataframe tbody tr th {\n",
       "        vertical-align: top;\n",
       "    }\n",
       "\n",
       "    .dataframe thead th {\n",
       "        text-align: right;\n",
       "    }\n",
       "</style>\n",
       "<table border=\"1\" class=\"dataframe\">\n",
       "  <thead>\n",
       "    <tr style=\"text-align: right;\">\n",
       "      <th></th>\n",
       "      <th>dt</th>\n",
       "      <th>cmd</th>\n",
       "      <th>count</th>\n",
       "    </tr>\n",
       "  </thead>\n",
       "  <tbody>\n",
       "    <tr>\n",
       "      <th>3</th>\n",
       "      <td>2024-07-17</td>\n",
       "      <td>./goaws.sh</td>\n",
       "      <td>24</td>\n",
       "    </tr>\n",
       "    <tr>\n",
       "      <th>16</th>\n",
       "      <td>2024-07-17</td>\n",
       "      <td>AWS=ec2-43-201-37-254.ap-northeast-2.compute.a...</td>\n",
       "      <td>24</td>\n",
       "    </tr>\n",
       "    <tr>\n",
       "      <th>26</th>\n",
       "      <td>2024-07-17</td>\n",
       "      <td>\\ubuntu@ec2-43-201-37-254.ap-northeast-2.compu...</td>\n",
       "      <td>24</td>\n",
       "    </tr>\n",
       "  </tbody>\n",
       "</table>\n",
       "</div>"
      ],
      "text/plain": [
       "              dt                                                cmd count\n",
       "3    2024-07-17                                          ./goaws.sh    24\n",
       "16   2024-07-17   AWS=ec2-43-201-37-254.ap-northeast-2.compute.a...    24\n",
       "26   2024-07-17   \\ubuntu@ec2-43-201-37-254.ap-northeast-2.compu...    24"
      ]
     },
     "execution_count": 55,
     "metadata": {},
     "output_type": "execute_result"
    }
   ],
   "source": [
    "fdf.tail(3)"
   ]
  }
 ],
 "metadata": {
  "kernelspec": {
   "display_name": "Python 3 (ipykernel)",
   "language": "python",
   "name": "python3"
  },
  "language_info": {
   "codemirror_mode": {
    "name": "ipython",
    "version": 3
   },
   "file_extension": ".py",
   "mimetype": "text/x-python",
   "name": "python",
   "nbconvert_exporter": "python",
   "pygments_lexer": "ipython3",
   "version": "3.11.9"
  }
 },
 "nbformat": 4,
 "nbformat_minor": 5
}
