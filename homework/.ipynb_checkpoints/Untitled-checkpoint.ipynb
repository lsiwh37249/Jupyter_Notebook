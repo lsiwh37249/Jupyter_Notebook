{
 "cells": [
  {
   "cell_type": "code",
   "execution_count": 1,
   "id": "c170bb3d-7a07-4f5e-a457-67ec5d17bd12",
   "metadata": {},
   "outputs": [],
   "source": [
    "import pandas as pd"
   ]
  },
  {
   "cell_type": "code",
   "execution_count": 2,
   "id": "49924187-ccd9-4830-bdec-36a7009483e2",
   "metadata": {},
   "outputs": [],
   "source": [
    "import numpy as np"
   ]
  },
  {
   "cell_type": "code",
   "execution_count": 5,
   "id": "6042bdb9-9b31-4040-8c5e-dc5bd81e7dd6",
   "metadata": {},
   "outputs": [],
   "source": [
    "import matplotlib.pyplot as plt"
   ]
  },
  {
   "cell_type": "code",
   "execution_count": 6,
   "id": "c61a93e4-9cee-4c4e-9ba9-fa55f3fef8fc",
   "metadata": {},
   "outputs": [
    {
     "name": "stdout",
     "output_type": "stream",
     "text": [
      "Collecting plotnine\n",
      "  Downloading plotnine-0.13.6-py3-none-any.whl.metadata (8.9 kB)\n",
      "Requirement already satisfied: matplotlib>=3.7.0 in /home/kim1/.pyenv/versions/note/lib/python3.11/site-packages (from plotnine) (3.9.1)\n",
      "Requirement already satisfied: pandas<3.0.0,>=2.1.0 in /home/kim1/.pyenv/versions/note/lib/python3.11/site-packages (from plotnine) (2.2.2)\n",
      "Collecting mizani~=0.11.0 (from plotnine)\n",
      "  Downloading mizani-0.11.4-py3-none-any.whl.metadata (4.8 kB)\n",
      "Requirement already satisfied: numpy>=1.23.0 in /home/kim1/.pyenv/versions/note/lib/python3.11/site-packages (from plotnine) (2.0.1)\n",
      "Collecting scipy>=1.7.0 (from plotnine)\n",
      "  Downloading scipy-1.14.0-cp311-cp311-manylinux_2_17_x86_64.manylinux2014_x86_64.whl.metadata (60 kB)\n",
      "\u001b[2K     \u001b[90m━━━━━━━━━━━━━━━━━━━━━━━━━━━━━━━━━━━━━━━━\u001b[0m \u001b[32m60.8/60.8 kB\u001b[0m \u001b[31m5.5 MB/s\u001b[0m eta \u001b[36m0:00:00\u001b[0m\n",
      "\u001b[?25hCollecting statsmodels>=0.14.0 (from plotnine)\n",
      "  Downloading statsmodels-0.14.2-cp311-cp311-manylinux_2_17_x86_64.manylinux2014_x86_64.whl.metadata (9.2 kB)\n",
      "Requirement already satisfied: contourpy>=1.0.1 in /home/kim1/.pyenv/versions/note/lib/python3.11/site-packages (from matplotlib>=3.7.0->plotnine) (1.2.1)\n",
      "Requirement already satisfied: cycler>=0.10 in /home/kim1/.pyenv/versions/note/lib/python3.11/site-packages (from matplotlib>=3.7.0->plotnine) (0.12.1)\n",
      "Requirement already satisfied: fonttools>=4.22.0 in /home/kim1/.pyenv/versions/note/lib/python3.11/site-packages (from matplotlib>=3.7.0->plotnine) (4.53.1)\n",
      "Requirement already satisfied: kiwisolver>=1.3.1 in /home/kim1/.pyenv/versions/note/lib/python3.11/site-packages (from matplotlib>=3.7.0->plotnine) (1.4.5)\n",
      "Requirement already satisfied: packaging>=20.0 in /home/kim1/.pyenv/versions/note/lib/python3.11/site-packages (from matplotlib>=3.7.0->plotnine) (24.1)\n",
      "Requirement already satisfied: pillow>=8 in /home/kim1/.pyenv/versions/note/lib/python3.11/site-packages (from matplotlib>=3.7.0->plotnine) (10.4.0)\n",
      "Requirement already satisfied: pyparsing>=2.3.1 in /home/kim1/.pyenv/versions/note/lib/python3.11/site-packages (from matplotlib>=3.7.0->plotnine) (3.1.2)\n",
      "Requirement already satisfied: python-dateutil>=2.7 in /home/kim1/.pyenv/versions/note/lib/python3.11/site-packages (from matplotlib>=3.7.0->plotnine) (2.9.0.post0)\n",
      "Requirement already satisfied: pytz>=2020.1 in /home/kim1/.pyenv/versions/note/lib/python3.11/site-packages (from pandas<3.0.0,>=2.1.0->plotnine) (2024.1)\n",
      "Requirement already satisfied: tzdata>=2022.7 in /home/kim1/.pyenv/versions/note/lib/python3.11/site-packages (from pandas<3.0.0,>=2.1.0->plotnine) (2024.1)\n",
      "Collecting patsy>=0.5.6 (from statsmodels>=0.14.0->plotnine)\n",
      "  Downloading patsy-0.5.6-py2.py3-none-any.whl.metadata (3.5 kB)\n",
      "Requirement already satisfied: six in /home/kim1/.pyenv/versions/note/lib/python3.11/site-packages (from patsy>=0.5.6->statsmodels>=0.14.0->plotnine) (1.16.0)\n",
      "Downloading plotnine-0.13.6-py3-none-any.whl (1.3 MB)\n",
      "\u001b[2K   \u001b[90m━━━━━━━━━━━━━━━━━━━━━━━━━━━━━━━━━━━━━━━━\u001b[0m \u001b[32m1.3/1.3 MB\u001b[0m \u001b[31m22.7 MB/s\u001b[0m eta \u001b[36m0:00:00\u001b[0ma \u001b[36m0:00:01\u001b[0m\n",
      "\u001b[?25hDownloading mizani-0.11.4-py3-none-any.whl (127 kB)\n",
      "\u001b[2K   \u001b[90m━━━━━━━━━━━━━━━━━━━━━━━━━━━━━━━━━━━━━━━━\u001b[0m \u001b[32m127.4/127.4 kB\u001b[0m \u001b[31m13.7 MB/s\u001b[0m eta \u001b[36m0:00:00\u001b[0m\n",
      "\u001b[?25hDownloading scipy-1.14.0-cp311-cp311-manylinux_2_17_x86_64.manylinux2014_x86_64.whl (41.1 MB)\n",
      "\u001b[2K   \u001b[90m━━━━━━━━━━━━━━━━━━━━━━━━━━━━━━━━━━━━━━━━\u001b[0m \u001b[32m41.1/41.1 MB\u001b[0m \u001b[31m20.0 MB/s\u001b[0m eta \u001b[36m0:00:00\u001b[0m00:01\u001b[0m00:01\u001b[0m\n",
      "\u001b[?25hDownloading statsmodels-0.14.2-cp311-cp311-manylinux_2_17_x86_64.manylinux2014_x86_64.whl (10.7 MB)\n",
      "\u001b[2K   \u001b[90m━━━━━━━━━━━━━━━━━━━━━━━━━━━━━━━━━━━━━━━━\u001b[0m \u001b[32m10.7/10.7 MB\u001b[0m \u001b[31m40.7 MB/s\u001b[0m eta \u001b[36m0:00:00\u001b[0m00:01\u001b[0m0:01\u001b[0m\n",
      "\u001b[?25hDownloading patsy-0.5.6-py2.py3-none-any.whl (233 kB)\n",
      "\u001b[2K   \u001b[90m━━━━━━━━━━━━━━━━━━━━━━━━━━━━━━━━━━━━━━━━\u001b[0m \u001b[32m233.9/233.9 kB\u001b[0m \u001b[31m27.0 MB/s\u001b[0m eta \u001b[36m0:00:00\u001b[0m\n",
      "\u001b[?25hInstalling collected packages: scipy, patsy, statsmodels, mizani, plotnine\n",
      "Successfully installed mizani-0.11.4 patsy-0.5.6 plotnine-0.13.6 scipy-1.14.0 statsmodels-0.14.2\n"
     ]
    }
   ],
   "source": [
    "!pip install plotnine"
   ]
  },
  {
   "cell_type": "markdown",
   "id": "882ef817-a59a-46c3-8475-59426db72f0d",
   "metadata": {},
   "source": [
    "### pd.date_range를 통해 dt 칼럼에 들어갈 값 생성 가능"
   ]
  },
  {
   "cell_type": "code",
   "execution_count": 14,
   "id": "26b99df0-4385-4767-b7ad-b7f9718376fa",
   "metadata": {},
   "outputs": [],
   "source": [
    "dates = pd.date_range('20130101', periods=40)"
   ]
  },
  {
   "cell_type": "code",
   "execution_count": 15,
   "id": "1d2ada95-8e77-43b7-a5ff-aeb7dda608b8",
   "metadata": {},
   "outputs": [
    {
     "name": "stdout",
     "output_type": "stream",
     "text": [
      "DatetimeIndex(['2013-01-01', '2013-01-02', '2013-01-03', '2013-01-04',\n",
      "               '2013-01-05', '2013-01-06', '2013-01-07', '2013-01-08',\n",
      "               '2013-01-09', '2013-01-10', '2013-01-11', '2013-01-12',\n",
      "               '2013-01-13', '2013-01-14', '2013-01-15', '2013-01-16',\n",
      "               '2013-01-17', '2013-01-18', '2013-01-19', '2013-01-20',\n",
      "               '2013-01-21', '2013-01-22', '2013-01-23', '2013-01-24',\n",
      "               '2013-01-25', '2013-01-26', '2013-01-27', '2013-01-28',\n",
      "               '2013-01-29', '2013-01-30', '2013-01-31', '2013-02-01',\n",
      "               '2013-02-02', '2013-02-03', '2013-02-04', '2013-02-05',\n",
      "               '2013-02-06', '2013-02-07', '2013-02-08', '2013-02-09'],\n",
      "              dtype='datetime64[ns]', freq='D')\n"
     ]
    }
   ],
   "source": [
    "print(dates)"
   ]
  },
  {
   "cell_type": "markdown",
   "id": "7ec76022-6457-450f-81c2-b7b578dc2fe0",
   "metadata": {},
   "source": [
    "속성 지정 : 딕셔너리의 key 값에는 속성, value에는 값을 지정. 만약 값을 하나로 통일하고 싶으면 인자 하나만 넣기, 그 반대라면 리스트로 넣기 "
   ]
  },
  {
   "cell_type": "code",
   "execution_count": 21,
   "id": "89554a44-996b-4708-b969-2d8dd35ced72",
   "metadata": {},
   "outputs": [],
   "source": [
    "df = pd.DataFrame({'A' : 1.,\n",
    "                    'B' : pd.Timestamp('20130102'),\n",
    "                    'C' : pd.Series(1,index=list(range(4)),dtype='float32'),\n",
    "                    'D' : np.array([3] * 4,dtype='int32'),\n",
    "                    'E' : pd.Categorical([\"test\",\"train\",\"test\",\"train\"]),\n",
    "                    'F' : 'foo' })"
   ]
  },
  {
   "cell_type": "code",
   "execution_count": 22,
   "id": "825aff27-6c70-46c2-8ddb-804144936106",
   "metadata": {},
   "outputs": [
    {
     "name": "stdout",
     "output_type": "stream",
     "text": [
      "     A          B    C  D      E    F\n",
      "0  1.0 2013-01-02  1.0  3   test  foo\n",
      "1  1.0 2013-01-02  1.0  3  train  foo\n",
      "2  1.0 2013-01-02  1.0  3   test  foo\n",
      "3  1.0 2013-01-02  1.0  3  train  foo\n"
     ]
    }
   ],
   "source": [
    "print(df)"
   ]
  },
  {
   "cell_type": "code",
   "execution_count": 25,
   "id": "db09b89a-4689-45f5-9daf-428d6fd5d809",
   "metadata": {},
   "outputs": [
    {
     "data": {
      "text/html": [
       "<div>\n",
       "<style scoped>\n",
       "    .dataframe tbody tr th:only-of-type {\n",
       "        vertical-align: middle;\n",
       "    }\n",
       "\n",
       "    .dataframe tbody tr th {\n",
       "        vertical-align: top;\n",
       "    }\n",
       "\n",
       "    .dataframe thead th {\n",
       "        text-align: right;\n",
       "    }\n",
       "</style>\n",
       "<table border=\"1\" class=\"dataframe\">\n",
       "  <thead>\n",
       "    <tr style=\"text-align: right;\">\n",
       "      <th></th>\n",
       "      <th>A</th>\n",
       "      <th>B</th>\n",
       "      <th>C</th>\n",
       "      <th>D</th>\n",
       "      <th>E</th>\n",
       "      <th>F</th>\n",
       "    </tr>\n",
       "  </thead>\n",
       "  <tbody>\n",
       "    <tr>\n",
       "      <th>0</th>\n",
       "      <td>1.0</td>\n",
       "      <td>2013-01-02</td>\n",
       "      <td>1.0</td>\n",
       "      <td>3</td>\n",
       "      <td>test</td>\n",
       "      <td>foo</td>\n",
       "    </tr>\n",
       "    <tr>\n",
       "      <th>1</th>\n",
       "      <td>1.0</td>\n",
       "      <td>2013-01-02</td>\n",
       "      <td>1.0</td>\n",
       "      <td>3</td>\n",
       "      <td>train</td>\n",
       "      <td>foo</td>\n",
       "    </tr>\n",
       "    <tr>\n",
       "      <th>2</th>\n",
       "      <td>1.0</td>\n",
       "      <td>2013-01-02</td>\n",
       "      <td>1.0</td>\n",
       "      <td>3</td>\n",
       "      <td>test</td>\n",
       "      <td>foo</td>\n",
       "    </tr>\n",
       "    <tr>\n",
       "      <th>3</th>\n",
       "      <td>1.0</td>\n",
       "      <td>2013-01-02</td>\n",
       "      <td>1.0</td>\n",
       "      <td>3</td>\n",
       "      <td>train</td>\n",
       "      <td>foo</td>\n",
       "    </tr>\n",
       "  </tbody>\n",
       "</table>\n",
       "</div>"
      ],
      "text/plain": [
       "     A          B    C  D      E    F\n",
       "0  1.0 2013-01-02  1.0  3   test  foo\n",
       "1  1.0 2013-01-02  1.0  3  train  foo\n",
       "2  1.0 2013-01-02  1.0  3   test  foo\n",
       "3  1.0 2013-01-02  1.0  3  train  foo"
      ]
     },
     "execution_count": 25,
     "metadata": {},
     "output_type": "execute_result"
    }
   ],
   "source": [
    "df.head(4)\n",
    "df.tail(4)"
   ]
  },
  {
   "cell_type": "code",
   "execution_count": 27,
   "id": "213589ad-6b67-435c-9ae2-745a9b848cfd",
   "metadata": {},
   "outputs": [
    {
     "data": {
      "text/html": [
       "<div>\n",
       "<style scoped>\n",
       "    .dataframe tbody tr th:only-of-type {\n",
       "        vertical-align: middle;\n",
       "    }\n",
       "\n",
       "    .dataframe tbody tr th {\n",
       "        vertical-align: top;\n",
       "    }\n",
       "\n",
       "    .dataframe thead th {\n",
       "        text-align: right;\n",
       "    }\n",
       "</style>\n",
       "<table border=\"1\" class=\"dataframe\">\n",
       "  <thead>\n",
       "    <tr style=\"text-align: right;\">\n",
       "      <th></th>\n",
       "      <th>A</th>\n",
       "      <th>B</th>\n",
       "      <th>C</th>\n",
       "      <th>D</th>\n",
       "    </tr>\n",
       "  </thead>\n",
       "  <tbody>\n",
       "    <tr>\n",
       "      <th>count</th>\n",
       "      <td>4.0</td>\n",
       "      <td>4</td>\n",
       "      <td>4.0</td>\n",
       "      <td>4.0</td>\n",
       "    </tr>\n",
       "    <tr>\n",
       "      <th>mean</th>\n",
       "      <td>1.0</td>\n",
       "      <td>2013-01-02 00:00:00</td>\n",
       "      <td>1.0</td>\n",
       "      <td>3.0</td>\n",
       "    </tr>\n",
       "    <tr>\n",
       "      <th>min</th>\n",
       "      <td>1.0</td>\n",
       "      <td>2013-01-02 00:00:00</td>\n",
       "      <td>1.0</td>\n",
       "      <td>3.0</td>\n",
       "    </tr>\n",
       "    <tr>\n",
       "      <th>25%</th>\n",
       "      <td>1.0</td>\n",
       "      <td>2013-01-02 00:00:00</td>\n",
       "      <td>1.0</td>\n",
       "      <td>3.0</td>\n",
       "    </tr>\n",
       "    <tr>\n",
       "      <th>50%</th>\n",
       "      <td>1.0</td>\n",
       "      <td>2013-01-02 00:00:00</td>\n",
       "      <td>1.0</td>\n",
       "      <td>3.0</td>\n",
       "    </tr>\n",
       "    <tr>\n",
       "      <th>75%</th>\n",
       "      <td>1.0</td>\n",
       "      <td>2013-01-02 00:00:00</td>\n",
       "      <td>1.0</td>\n",
       "      <td>3.0</td>\n",
       "    </tr>\n",
       "    <tr>\n",
       "      <th>max</th>\n",
       "      <td>1.0</td>\n",
       "      <td>2013-01-02 00:00:00</td>\n",
       "      <td>1.0</td>\n",
       "      <td>3.0</td>\n",
       "    </tr>\n",
       "    <tr>\n",
       "      <th>std</th>\n",
       "      <td>0.0</td>\n",
       "      <td>NaN</td>\n",
       "      <td>0.0</td>\n",
       "      <td>0.0</td>\n",
       "    </tr>\n",
       "  </tbody>\n",
       "</table>\n",
       "</div>"
      ],
      "text/plain": [
       "         A                    B    C    D\n",
       "count  4.0                    4  4.0  4.0\n",
       "mean   1.0  2013-01-02 00:00:00  1.0  3.0\n",
       "min    1.0  2013-01-02 00:00:00  1.0  3.0\n",
       "25%    1.0  2013-01-02 00:00:00  1.0  3.0\n",
       "50%    1.0  2013-01-02 00:00:00  1.0  3.0\n",
       "75%    1.0  2013-01-02 00:00:00  1.0  3.0\n",
       "max    1.0  2013-01-02 00:00:00  1.0  3.0\n",
       "std    0.0                  NaN  0.0  0.0"
      ]
     },
     "execution_count": 27,
     "metadata": {},
     "output_type": "execute_result"
    }
   ],
   "source": [
    "df.describe()"
   ]
  },
  {
   "cell_type": "code",
   "execution_count": 29,
   "id": "3a57d6b0-2e99-4f9e-8d6c-10e28e412999",
   "metadata": {},
   "outputs": [
    {
     "data": {
      "text/plain": [
       "Index(['A', 'B', 'C', 'D', 'E', 'F'], dtype='object')"
      ]
     },
     "execution_count": 29,
     "metadata": {},
     "output_type": "execute_result"
    }
   ],
   "source": [
    "df.columns"
   ]
  },
  {
   "cell_type": "markdown",
   "id": "345baf8a-04d4-4656-8045-f77dfaebc2d0",
   "metadata": {},
   "source": [
    "전치 : 데이터저장방식에 따라 변경해야 할 때 사용하면 되지 않을까 싶다."
   ]
  },
  {
   "cell_type": "code",
   "execution_count": 30,
   "id": "69a35675-30cc-4d85-b5ed-8516b1260846",
   "metadata": {},
   "outputs": [
    {
     "data": {
      "text/html": [
       "<div>\n",
       "<style scoped>\n",
       "    .dataframe tbody tr th:only-of-type {\n",
       "        vertical-align: middle;\n",
       "    }\n",
       "\n",
       "    .dataframe tbody tr th {\n",
       "        vertical-align: top;\n",
       "    }\n",
       "\n",
       "    .dataframe thead th {\n",
       "        text-align: right;\n",
       "    }\n",
       "</style>\n",
       "<table border=\"1\" class=\"dataframe\">\n",
       "  <thead>\n",
       "    <tr style=\"text-align: right;\">\n",
       "      <th></th>\n",
       "      <th>0</th>\n",
       "      <th>1</th>\n",
       "      <th>2</th>\n",
       "      <th>3</th>\n",
       "    </tr>\n",
       "  </thead>\n",
       "  <tbody>\n",
       "    <tr>\n",
       "      <th>A</th>\n",
       "      <td>1.0</td>\n",
       "      <td>1.0</td>\n",
       "      <td>1.0</td>\n",
       "      <td>1.0</td>\n",
       "    </tr>\n",
       "    <tr>\n",
       "      <th>B</th>\n",
       "      <td>2013-01-02 00:00:00</td>\n",
       "      <td>2013-01-02 00:00:00</td>\n",
       "      <td>2013-01-02 00:00:00</td>\n",
       "      <td>2013-01-02 00:00:00</td>\n",
       "    </tr>\n",
       "    <tr>\n",
       "      <th>C</th>\n",
       "      <td>1.0</td>\n",
       "      <td>1.0</td>\n",
       "      <td>1.0</td>\n",
       "      <td>1.0</td>\n",
       "    </tr>\n",
       "    <tr>\n",
       "      <th>D</th>\n",
       "      <td>3</td>\n",
       "      <td>3</td>\n",
       "      <td>3</td>\n",
       "      <td>3</td>\n",
       "    </tr>\n",
       "    <tr>\n",
       "      <th>E</th>\n",
       "      <td>test</td>\n",
       "      <td>train</td>\n",
       "      <td>test</td>\n",
       "      <td>train</td>\n",
       "    </tr>\n",
       "    <tr>\n",
       "      <th>F</th>\n",
       "      <td>foo</td>\n",
       "      <td>foo</td>\n",
       "      <td>foo</td>\n",
       "      <td>foo</td>\n",
       "    </tr>\n",
       "  </tbody>\n",
       "</table>\n",
       "</div>"
      ],
      "text/plain": [
       "                     0                    1                    2  \\\n",
       "A                  1.0                  1.0                  1.0   \n",
       "B  2013-01-02 00:00:00  2013-01-02 00:00:00  2013-01-02 00:00:00   \n",
       "C                  1.0                  1.0                  1.0   \n",
       "D                    3                    3                    3   \n",
       "E                 test                train                 test   \n",
       "F                  foo                  foo                  foo   \n",
       "\n",
       "                     3  \n",
       "A                  1.0  \n",
       "B  2013-01-02 00:00:00  \n",
       "C                  1.0  \n",
       "D                    3  \n",
       "E                train  \n",
       "F                  foo  "
      ]
     },
     "execution_count": 30,
     "metadata": {},
     "output_type": "execute_result"
    }
   ],
   "source": [
    "df.T"
   ]
  },
  {
   "cell_type": "code",
   "execution_count": null,
   "id": "db2c969f-dddb-43a3-89c9-6d43cf6a0d18",
   "metadata": {},
   "outputs": [],
   "source": []
  }
 ],
 "metadata": {
  "kernelspec": {
   "display_name": "Python 3 (ipykernel)",
   "language": "python",
   "name": "python3"
  },
  "language_info": {
   "codemirror_mode": {
    "name": "ipython",
    "version": 3
   },
   "file_extension": ".py",
   "mimetype": "text/x-python",
   "name": "python",
   "nbconvert_exporter": "python",
   "pygments_lexer": "ipython3",
   "version": "3.11.9"
  }
 },
 "nbformat": 4,
 "nbformat_minor": 5
}
